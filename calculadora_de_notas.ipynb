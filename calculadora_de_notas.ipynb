{
  "nbformat": 4,
  "nbformat_minor": 0,
  "metadata": {
    "colab": {
      "provenance": [],
      "authorship_tag": "ABX9TyM21TRXo7E6W4JqLFdk3Nv3",
      "include_colab_link": true
    },
    "kernelspec": {
      "name": "python3",
      "display_name": "Python 3"
    },
    "language_info": {
      "name": "python"
    }
  },
  "cells": [
    {
      "cell_type": "markdown",
      "metadata": {
        "id": "view-in-github",
        "colab_type": "text"
      },
      "source": [
        "<a href=\"https://colab.research.google.com/github/Pedfortunato/Calculadora-de-notas-em-python/blob/main/calculadora_de_notas.ipynb\" target=\"_parent\"><img src=\"https://colab.research.google.com/assets/colab-badge.svg\" alt=\"Open In Colab\"/></a>"
      ]
    },
    {
      "cell_type": "code",
      "source": [
        "materia = input(\"Digite o nome da matéria que deseja consultar: \")\n",
        "nota_do_primeiro_bimestre = float(input(\"digite a nota do primeiro bimestre: \"))\n",
        "nota_do_segundo_bimestre = float(input(\"digite a nota do segundo bimestre: \"))\n",
        "nota_do_terceiro_bimestre = float(input(\"digite a nota do terceiro bimestre: \"))\n",
        "nota_do_quarto_bimestre = float(input(\"digite a nota do quarto bimestre: \"))\n",
        "\n",
        "media = (nota_do_primeiro_bimestre + nota_do_segundo_bimestre + nota_do_terceiro_bimestre + nota_do_quarto_bimestre)/4\n",
        "if media >= 7:\n",
        "  print(\"em \" + (materia) + \" você foi aprovado\")\n",
        "else:\n",
        "    print(\"em \" + (materia) + \" você foi reprovado\")\n"
      ],
      "metadata": {
        "colab": {
          "base_uri": "https://localhost:8080/"
        },
        "id": "9xqqnX_HTRmG",
        "outputId": "91f29c16-2e5a-4109-c29e-c798c4eec269"
      },
      "execution_count": 51,
      "outputs": [
        {
          "output_type": "stream",
          "name": "stdout",
          "text": [
            "Digite o nome da matéria que deseja consultar: calculo\n",
            "digite a nota do primeiro bimestre: 5\n",
            "digite a nota do segundo bimestre: 7\n",
            "digite a nota do terceiro bimestre: 8\n",
            "digite a nota do quarto bimestre: 6\n",
            "em calculo você foi reprovado\n"
          ]
        }
      ]
    },
    {
      "cell_type": "code",
      "source": [],
      "metadata": {
        "id": "exFQgSiPXwce"
      },
      "execution_count": null,
      "outputs": []
    }
  ]
}